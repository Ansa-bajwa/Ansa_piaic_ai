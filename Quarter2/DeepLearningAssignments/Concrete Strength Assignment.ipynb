{
 "cells": [
  {
   "cell_type": "markdown",
   "metadata": {},
   "source": [
    "# Assignment: Compresive Strength Concrete Problem\n",
    "\n",
    "\n",
    "### Abstract: \n",
    "\n",
    "Concrete is the most important material in civil engineering. The concrete compressive strength (concrete strength to bear the load) is a highly nonlinear function of age and ingredients.  <br><br>\n",
    "\n",
    "<table border=\"1\"  cellpadding=\"6\" bordercolor=\"red\">\n",
    "\t<tbody>\n",
    "        <tr>\n",
    "\t\t<td bgcolor=\"#DDEEFF\"><p class=\"normal\"><b>Data Set Characteristics:&nbsp;&nbsp;</b></p></td>\n",
    "\t\t<td><p class=\"normal\">Multivariate</p></td>\n",
    "\t\t<td bgcolor=\"#DDEEFF\"><p class=\"normal\"><b>Number of Instances:</b></p></td>\n",
    "\t\t<td><p class=\"normal\">1030</p></td>\n",
    "\t\t<td bgcolor=\"#DDEEFF\"><p class=\"normal\"><b>Area:</b></p></td>\n",
    "\t\t<td><p class=\"normal\">Physical</p></td>\n",
    "        </tr>\n",
    "     </tbody>\n",
    "    </table>\n",
    "<table border=\"1\" cellpadding=\"6\">\n",
    "    <tbody>\n",
    "        <tr>\n",
    "            <td bgcolor=\"#DDEEFF\"><p class=\"normal\"><b>Attribute Characteristics:</b></p></td>\n",
    "            <td><p class=\"normal\">Real</p></td>\n",
    "            <td bgcolor=\"#DDEEFF\"><p class=\"normal\"><b>Number of Attributes:</b></p></td>\n",
    "            <td><p class=\"normal\">9</p></td>\n",
    "            <td bgcolor=\"#DDEEFF\"><p class=\"normal\"><b>Date Donated</b></p></td>\n",
    "            <td><p class=\"normal\">2007-08-03</p></td>\n",
    "        </tr>\n",
    "     </tbody>\n",
    "    </table>\n",
    "<table border=\"1\" cellpadding=\"6\">\t\n",
    "    <tbody>\n",
    "    <tr>\n",
    "\t\t<td bgcolor=\"#DDEEFF\"><p class=\"normal\"><b>Associated Tasks:</b></p></td>\n",
    "\t\t<td><p class=\"normal\">Regression</p></td>\n",
    "\t\t<td bgcolor=\"#DDEEFF\"><p class=\"normal\"><b>Missing Values?</b></p></td>\n",
    "\t\t<td><p class=\"normal\">N/A</p></td>\n",
    "\t\t<td bgcolor=\"#DDEEFF\"><p class=\"normal\"><b>Number of Web Hits:</b></p></td>\n",
    "\t\t<td><p class=\"normal\">231464</p></td>\n",
    "\t</tr>\n",
    "    </tbody>\n",
    "    </table>"
   ]
  },
  {
   "cell_type": "markdown",
   "metadata": {},
   "source": [
    "###  Description:\n",
    "| Features Name | Data Type | Measurement | Description |\n",
    "| -- | -- | -- | -- |\n",
    "Cement (component 1) | quantitative | kg in a m3 mixture | Input Variable\n",
    "Blast Furnace Slag (component 2) | quantitative | kg in a m3 mixture | Input Variable\n",
    "Fly Ash (component 3) | quantitative | kg in a m3 mixture | Input Variable\n",
    "Water (component 4) | quantitative | kg in a m3 mixture | Input Variable\n",
    "Superplasticizer (component 5) | quantitative | kg in a m3 mixture | Input Variable\n",
    "Coarse Aggregate (component 6) | quantitative | kg in a m3 mixture | Input Variable\n",
    "Fine Aggregate (component 7) | quantitative | kg in a m3 mixture | Input Variable\n",
    "Age | quantitative | Day (1~365) | Input Variable\n",
    "Concrete compressive strength | quantitative | MPa | Output Variable\n",
    "\n",
    "### WORKFLOW :\n",
    "- Load Data\n",
    "- Check Missing Values ( If Exist ; Fill each record with mean of its feature )\n",
    "- Standardized the Input Variables. **Hint**: Centeralized the data\n",
    "- Split into 50% Training(Samples,Labels) , 30% Test(Samples,Labels) and 20% Validation Data(Samples,Labels).\n",
    "- Model : input Layer (No. of features ), 3 hidden layers including 10,8,6 unit & Output Layer with activation function relu/tanh (check by experiment).\n",
    "- Compilation Step (Note : Its a Regression problem , select loss , metrics according to it)\n",
    "- Train the Model with Epochs (100) and validate it\n",
    "- If the model gets overfit tune your model by changing the units , No. of layers , activation function , epochs , add dropout layer or add Regularizer according to the need .\n",
    "- Evaluation Step\n",
    "- Prediction\n"
   ]
  },
  {
   "cell_type": "markdown",
   "metadata": {},
   "source": [
    "# Load Data:\n",
    "[Click Here to Download DataSet](https://github.com/ramsha275/ML_Datasets/blob/main/compresive_strength_concrete.csv)"
   ]
  },
  {
   "cell_type": "code",
   "execution_count": 1,
   "metadata": {},
   "outputs": [],
   "source": [
    "import pandas as pd\n",
    "import numpy as np\n",
    "import matplotlib.pyplot as plt\n",
    "from sklearn.preprocessing import StandardScaler\n",
    "from sklearn.model_selection import train_test_split\n",
    "import tensorflow as tf\n",
    "from tensorflow.keras import models,layers,optimizers,utils\n",
    "from tensorflow.keras.utils import to_categorical\n",
    "from tensorflow.keras.models import Sequential\n",
    "from tensorflow.keras.layers import Dense\n",
    "import math\n",
    "from sklearn.metrics import mean_squared_error"
   ]
  },
  {
   "cell_type": "code",
   "execution_count": 2,
   "metadata": {},
   "outputs": [],
   "source": [
    "df=pd.read_csv(\"compresive_strength_concrete.csv\")"
   ]
  },
  {
   "cell_type": "code",
   "execution_count": 3,
   "metadata": {
    "scrolled": true
   },
   "outputs": [
    {
     "data": {
      "text/html": [
       "<div>\n",
       "<style scoped>\n",
       "    .dataframe tbody tr th:only-of-type {\n",
       "        vertical-align: middle;\n",
       "    }\n",
       "\n",
       "    .dataframe tbody tr th {\n",
       "        vertical-align: top;\n",
       "    }\n",
       "\n",
       "    .dataframe thead th {\n",
       "        text-align: right;\n",
       "    }\n",
       "</style>\n",
       "<table border=\"1\" class=\"dataframe\">\n",
       "  <thead>\n",
       "    <tr style=\"text-align: right;\">\n",
       "      <th></th>\n",
       "      <th>Cement (component 1)(kg in a m^3 mixture)</th>\n",
       "      <th>Blast Furnace Slag (component 2)(kg in a m^3 mixture)</th>\n",
       "      <th>Fly Ash (component 3)(kg in a m^3 mixture)</th>\n",
       "      <th>Water  (component 4)(kg in a m^3 mixture)</th>\n",
       "      <th>Superplasticizer (component 5)(kg in a m^3 mixture)</th>\n",
       "      <th>Coarse Aggregate  (component 6)(kg in a m^3 mixture)</th>\n",
       "      <th>Fine Aggregate (component 7)(kg in a m^3 mixture)</th>\n",
       "      <th>Age (day)</th>\n",
       "      <th>Concrete compressive strength(MPa, megapascals)</th>\n",
       "    </tr>\n",
       "  </thead>\n",
       "  <tbody>\n",
       "    <tr>\n",
       "      <th>0</th>\n",
       "      <td>540.0</td>\n",
       "      <td>0.0</td>\n",
       "      <td>0.0</td>\n",
       "      <td>162.0</td>\n",
       "      <td>2.5</td>\n",
       "      <td>1040.0</td>\n",
       "      <td>676.0</td>\n",
       "      <td>28</td>\n",
       "      <td>79.99</td>\n",
       "    </tr>\n",
       "    <tr>\n",
       "      <th>1</th>\n",
       "      <td>540.0</td>\n",
       "      <td>0.0</td>\n",
       "      <td>0.0</td>\n",
       "      <td>162.0</td>\n",
       "      <td>2.5</td>\n",
       "      <td>1055.0</td>\n",
       "      <td>676.0</td>\n",
       "      <td>28</td>\n",
       "      <td>61.89</td>\n",
       "    </tr>\n",
       "    <tr>\n",
       "      <th>2</th>\n",
       "      <td>332.5</td>\n",
       "      <td>142.5</td>\n",
       "      <td>0.0</td>\n",
       "      <td>228.0</td>\n",
       "      <td>0.0</td>\n",
       "      <td>932.0</td>\n",
       "      <td>594.0</td>\n",
       "      <td>270</td>\n",
       "      <td>40.27</td>\n",
       "    </tr>\n",
       "    <tr>\n",
       "      <th>3</th>\n",
       "      <td>332.5</td>\n",
       "      <td>142.5</td>\n",
       "      <td>0.0</td>\n",
       "      <td>228.0</td>\n",
       "      <td>0.0</td>\n",
       "      <td>932.0</td>\n",
       "      <td>594.0</td>\n",
       "      <td>365</td>\n",
       "      <td>41.05</td>\n",
       "    </tr>\n",
       "    <tr>\n",
       "      <th>4</th>\n",
       "      <td>198.6</td>\n",
       "      <td>132.4</td>\n",
       "      <td>0.0</td>\n",
       "      <td>192.0</td>\n",
       "      <td>0.0</td>\n",
       "      <td>978.4</td>\n",
       "      <td>825.5</td>\n",
       "      <td>360</td>\n",
       "      <td>44.30</td>\n",
       "    </tr>\n",
       "  </tbody>\n",
       "</table>\n",
       "</div>"
      ],
      "text/plain": [
       "   Cement (component 1)(kg in a m^3 mixture)  \\\n",
       "0                                      540.0   \n",
       "1                                      540.0   \n",
       "2                                      332.5   \n",
       "3                                      332.5   \n",
       "4                                      198.6   \n",
       "\n",
       "   Blast Furnace Slag (component 2)(kg in a m^3 mixture)  \\\n",
       "0                                                0.0       \n",
       "1                                                0.0       \n",
       "2                                              142.5       \n",
       "3                                              142.5       \n",
       "4                                              132.4       \n",
       "\n",
       "   Fly Ash (component 3)(kg in a m^3 mixture)  \\\n",
       "0                                         0.0   \n",
       "1                                         0.0   \n",
       "2                                         0.0   \n",
       "3                                         0.0   \n",
       "4                                         0.0   \n",
       "\n",
       "   Water  (component 4)(kg in a m^3 mixture)  \\\n",
       "0                                      162.0   \n",
       "1                                      162.0   \n",
       "2                                      228.0   \n",
       "3                                      228.0   \n",
       "4                                      192.0   \n",
       "\n",
       "   Superplasticizer (component 5)(kg in a m^3 mixture)  \\\n",
       "0                                                2.5     \n",
       "1                                                2.5     \n",
       "2                                                0.0     \n",
       "3                                                0.0     \n",
       "4                                                0.0     \n",
       "\n",
       "   Coarse Aggregate  (component 6)(kg in a m^3 mixture)  \\\n",
       "0                                             1040.0      \n",
       "1                                             1055.0      \n",
       "2                                              932.0      \n",
       "3                                              932.0      \n",
       "4                                              978.4      \n",
       "\n",
       "   Fine Aggregate (component 7)(kg in a m^3 mixture)  Age (day)  \\\n",
       "0                                              676.0         28   \n",
       "1                                              676.0         28   \n",
       "2                                              594.0        270   \n",
       "3                                              594.0        365   \n",
       "4                                              825.5        360   \n",
       "\n",
       "   Concrete compressive strength(MPa, megapascals)   \n",
       "0                                             79.99  \n",
       "1                                             61.89  \n",
       "2                                             40.27  \n",
       "3                                             41.05  \n",
       "4                                             44.30  "
      ]
     },
     "execution_count": 3,
     "metadata": {},
     "output_type": "execute_result"
    }
   ],
   "source": [
    "df.head()"
   ]
  },
  {
   "cell_type": "code",
   "execution_count": 4,
   "metadata": {},
   "outputs": [],
   "source": [
    "y=df['Concrete compressive strength(MPa, megapascals) '].copy()\n",
    "x=df.drop('Concrete compressive strength(MPa, megapascals) ', axis=1).copy()"
   ]
  },
  {
   "cell_type": "code",
   "execution_count": 5,
   "metadata": {},
   "outputs": [],
   "source": [
    "x_train,x_test,y_train,y_test=train_test_split(x,y,train_size=0.7,random_state=123)"
   ]
  },
  {
   "cell_type": "code",
   "execution_count": 6,
   "metadata": {},
   "outputs": [
    {
     "data": {
      "text/plain": [
       "StandardScaler(copy=True, with_mean=True, with_std=True)"
      ]
     },
     "execution_count": 6,
     "metadata": {},
     "output_type": "execute_result"
    }
   ],
   "source": [
    "scaler = StandardScaler()\n",
    "scaler.fit(x_train)"
   ]
  },
  {
   "cell_type": "code",
   "execution_count": 7,
   "metadata": {},
   "outputs": [],
   "source": [
    "x_train =pd.DataFrame(scaler.transform(x_train),columns=x_train.columns)\n",
    "x_test=pd.DataFrame(scaler.transform(x_test),columns=x_test.columns)"
   ]
  },
  {
   "cell_type": "code",
   "execution_count": 8,
   "metadata": {},
   "outputs": [],
   "source": [
    "part_x_train, x_val, part_y_train, y_val = train_test_split(x_train, y_train, test_size=0.2, random_state=2)"
   ]
  },
  {
   "cell_type": "code",
   "execution_count": 9,
   "metadata": {},
   "outputs": [],
   "source": [
    "model = Sequential()\n",
    "model.add(Dense(12, input_dim=8, activation= \"relu\"))\n",
    "model.add(Dense(10, activation= \"relu\"))\n",
    "model.add(Dense(8, activation= \"relu\"))\n",
    "model.add(Dense(6, activation= \"relu\"))\n",
    "model.add(Dense(1,activation=\"relu\"))\n",
    "model.compile(loss= \"mean_squared_error\" , optimizer=\"adam\", metrics=[\"acc\"])"
   ]
  },
  {
   "cell_type": "code",
   "execution_count": 10,
   "metadata": {},
   "outputs": [
    {
     "name": "stdout",
     "output_type": "stream",
     "text": [
      "Train on 576 samples, validate on 145 samples\n",
      "Epoch 1/100\n",
      "576/576 [==============================] - 1s 1ms/sample - loss: 1598.6853 - acc: 0.0000e+00 - val_loss: 1463.4313 - val_acc: 0.0000e+00\n",
      "Epoch 2/100\n",
      "576/576 [==============================] - 0s 45us/sample - loss: 1595.1670 - acc: 0.0000e+00 - val_loss: 1459.1652 - val_acc: 0.0000e+00\n",
      "Epoch 3/100\n",
      "576/576 [==============================] - 0s 43us/sample - loss: 1590.6201 - acc: 0.0000e+00 - val_loss: 1454.3606 - val_acc: 0.0000e+00\n",
      "Epoch 4/100\n",
      "576/576 [==============================] - 0s 43us/sample - loss: 1585.2827 - acc: 0.0000e+00 - val_loss: 1448.8470 - val_acc: 0.0000e+00\n",
      "Epoch 5/100\n",
      "576/576 [==============================] - 0s 40us/sample - loss: 1579.2451 - acc: 0.0000e+00 - val_loss: 1442.6694 - val_acc: 0.0000e+00\n",
      "Epoch 6/100\n",
      "576/576 [==============================] - 0s 47us/sample - loss: 1572.3809 - acc: 0.0000e+00 - val_loss: 1435.7449 - val_acc: 0.0000e+00\n",
      "Epoch 7/100\n",
      "576/576 [==============================] - 0s 45us/sample - loss: 1564.5280 - acc: 0.0000e+00 - val_loss: 1427.9013 - val_acc: 0.0000e+00\n",
      "Epoch 8/100\n",
      "576/576 [==============================] - 0s 42us/sample - loss: 1555.6087 - acc: 0.0000e+00 - val_loss: 1418.8638 - val_acc: 0.0000e+00\n",
      "Epoch 9/100\n",
      "576/576 [==============================] - 0s 50us/sample - loss: 1545.5445 - acc: 0.0000e+00 - val_loss: 1408.3227 - val_acc: 0.0000e+00\n",
      "Epoch 10/100\n",
      "576/576 [==============================] - 0s 47us/sample - loss: 1533.6446 - acc: 0.0000e+00 - val_loss: 1396.2730 - val_acc: 0.0000e+00\n",
      "Epoch 11/100\n",
      "576/576 [==============================] - 0s 38us/sample - loss: 1520.1521 - acc: 0.0000e+00 - val_loss: 1382.2912 - val_acc: 0.0000e+00\n",
      "Epoch 12/100\n",
      "576/576 [==============================] - 0s 45us/sample - loss: 1503.8271 - acc: 0.0000e+00 - val_loss: 1366.2454 - val_acc: 0.0000e+00\n",
      "Epoch 13/100\n",
      "576/576 [==============================] - 0s 47us/sample - loss: 1485.4133 - acc: 0.0000e+00 - val_loss: 1347.5854 - val_acc: 0.0000e+00\n",
      "Epoch 14/100\n",
      "576/576 [==============================] - 0s 52us/sample - loss: 1463.9701 - acc: 0.0000e+00 - val_loss: 1326.1281 - val_acc: 0.0000e+00\n",
      "Epoch 15/100\n",
      "576/576 [==============================] - 0s 54us/sample - loss: 1439.2746 - acc: 0.0000e+00 - val_loss: 1301.3613 - val_acc: 0.0000e+00\n",
      "Epoch 16/100\n",
      "576/576 [==============================] - 0s 76us/sample - loss: 1411.2711 - acc: 0.0000e+00 - val_loss: 1272.4733 - val_acc: 0.0000e+00\n",
      "Epoch 17/100\n",
      "576/576 [==============================] - 0s 61us/sample - loss: 1378.0436 - acc: 0.0000e+00 - val_loss: 1239.3515 - val_acc: 0.0000e+00\n",
      "Epoch 18/100\n",
      "576/576 [==============================] - 0s 52us/sample - loss: 1339.6570 - acc: 0.0000e+00 - val_loss: 1201.7930 - val_acc: 0.0000e+00\n",
      "Epoch 19/100\n",
      "576/576 [==============================] - 0s 49us/sample - loss: 1297.2508 - acc: 0.0000e+00 - val_loss: 1159.2749 - val_acc: 0.0000e+00\n",
      "Epoch 20/100\n",
      "576/576 [==============================] - 0s 40us/sample - loss: 1248.3550 - acc: 0.0000e+00 - val_loss: 1111.5198 - val_acc: 0.0000e+00\n",
      "Epoch 21/100\n",
      "576/576 [==============================] - 0s 38us/sample - loss: 1193.9683 - acc: 0.0000e+00 - val_loss: 1057.9024 - val_acc: 0.0000e+00\n",
      "Epoch 22/100\n",
      "576/576 [==============================] - 0s 47us/sample - loss: 1132.1515 - acc: 0.0000e+00 - val_loss: 998.1064 - val_acc: 0.0000e+00\n",
      "Epoch 23/100\n",
      "576/576 [==============================] - 0s 42us/sample - loss: 1064.6953 - acc: 0.0000e+00 - val_loss: 932.1136 - val_acc: 0.0000e+00\n",
      "Epoch 24/100\n",
      "576/576 [==============================] - 0s 56us/sample - loss: 990.7102 - acc: 0.0000e+00 - val_loss: 861.4022 - val_acc: 0.0000e+00\n",
      "Epoch 25/100\n",
      "576/576 [==============================] - 0s 52us/sample - loss: 910.4966 - acc: 0.0000e+00 - val_loss: 786.6975 - val_acc: 0.0000e+00\n",
      "Epoch 26/100\n",
      "576/576 [==============================] - 0s 50us/sample - loss: 826.7729 - acc: 0.0000e+00 - val_loss: 708.2015 - val_acc: 0.0000e+00\n",
      "Epoch 27/100\n",
      "576/576 [==============================] - 0s 54us/sample - loss: 743.1076 - acc: 0.0000e+00 - val_loss: 627.7827 - val_acc: 0.0000e+00\n",
      "Epoch 28/100\n",
      "576/576 [==============================] - 0s 54us/sample - loss: 657.7852 - acc: 0.0000e+00 - val_loss: 548.7430 - val_acc: 0.0000e+00\n",
      "Epoch 29/100\n",
      "576/576 [==============================] - 0s 52us/sample - loss: 575.8126 - acc: 0.0000e+00 - val_loss: 472.7011 - val_acc: 0.0000e+00\n",
      "Epoch 30/100\n",
      "576/576 [==============================] - 0s 52us/sample - loss: 499.3623 - acc: 0.0000e+00 - val_loss: 402.4742 - val_acc: 0.0000e+00\n",
      "Epoch 31/100\n",
      "576/576 [==============================] - 0s 57us/sample - loss: 431.9146 - acc: 0.0000e+00 - val_loss: 340.9473 - val_acc: 0.0000e+00\n",
      "Epoch 32/100\n",
      "576/576 [==============================] - 0s 54us/sample - loss: 374.9569 - acc: 0.0000e+00 - val_loss: 290.3799 - val_acc: 0.0000e+00\n",
      "Epoch 33/100\n",
      "576/576 [==============================] - 0s 52us/sample - loss: 331.5210 - acc: 0.0000e+00 - val_loss: 250.7427 - val_acc: 0.0000e+00\n",
      "Epoch 34/100\n",
      "576/576 [==============================] - 0s 56us/sample - loss: 299.8501 - acc: 0.0000e+00 - val_loss: 222.1967 - val_acc: 0.0000e+00\n",
      "Epoch 35/100\n",
      "576/576 [==============================] - 0s 68us/sample - loss: 279.9507 - acc: 0.0000e+00 - val_loss: 202.6956 - val_acc: 0.0000e+00\n",
      "Epoch 36/100\n",
      "576/576 [==============================] - 0s 45us/sample - loss: 265.8133 - acc: 0.0000e+00 - val_loss: 190.0961 - val_acc: 0.0000e+00\n",
      "Epoch 37/100\n",
      "576/576 [==============================] - 0s 56us/sample - loss: 257.2251 - acc: 0.0000e+00 - val_loss: 181.6757 - val_acc: 0.0000e+00\n",
      "Epoch 38/100\n",
      "576/576 [==============================] - 0s 52us/sample - loss: 251.3406 - acc: 0.0000e+00 - val_loss: 175.4738 - val_acc: 0.0000e+00\n",
      "Epoch 39/100\n",
      "576/576 [==============================] - 0s 43us/sample - loss: 245.7565 - acc: 0.0000e+00 - val_loss: 170.8519 - val_acc: 0.0000e+00\n",
      "Epoch 40/100\n",
      "576/576 [==============================] - 0s 49us/sample - loss: 240.6790 - acc: 0.0000e+00 - val_loss: 167.3585 - val_acc: 0.0000e+00\n",
      "Epoch 41/100\n",
      "576/576 [==============================] - 0s 56us/sample - loss: 236.0068 - acc: 0.0000e+00 - val_loss: 164.6361 - val_acc: 0.0000e+00\n",
      "Epoch 42/100\n",
      "576/576 [==============================] - 0s 49us/sample - loss: 231.2179 - acc: 0.0000e+00 - val_loss: 162.2231 - val_acc: 0.0000e+00\n",
      "Epoch 43/100\n",
      "576/576 [==============================] - 0s 52us/sample - loss: 227.0466 - acc: 0.0000e+00 - val_loss: 160.0905 - val_acc: 0.0000e+00\n",
      "Epoch 44/100\n",
      "576/576 [==============================] - 0s 52us/sample - loss: 223.9403 - acc: 0.0000e+00 - val_loss: 158.6271 - val_acc: 0.0000e+00\n",
      "Epoch 45/100\n",
      "576/576 [==============================] - 0s 40us/sample - loss: 220.2473 - acc: 0.0000e+00 - val_loss: 156.4670 - val_acc: 0.0000e+00\n",
      "Epoch 46/100\n",
      "576/576 [==============================] - 0s 49us/sample - loss: 217.0979 - acc: 0.0000e+00 - val_loss: 154.4619 - val_acc: 0.0000e+00\n",
      "Epoch 47/100\n",
      "576/576 [==============================] - 0s 55us/sample - loss: 214.4985 - acc: 0.0000e+00 - val_loss: 152.6668 - val_acc: 0.0000e+00\n",
      "Epoch 48/100\n",
      "576/576 [==============================] - 0s 50us/sample - loss: 211.8646 - acc: 0.0000e+00 - val_loss: 150.6367 - val_acc: 0.0000e+00\n",
      "Epoch 49/100\n",
      "576/576 [==============================] - 0s 57us/sample - loss: 209.3693 - acc: 0.0000e+00 - val_loss: 149.1323 - val_acc: 0.0000e+00\n",
      "Epoch 50/100\n",
      "576/576 [==============================] - 0s 56us/sample - loss: 207.1542 - acc: 0.0000e+00 - val_loss: 147.7160 - val_acc: 0.0000e+00\n",
      "Epoch 51/100\n",
      "576/576 [==============================] - 0s 45us/sample - loss: 205.0352 - acc: 0.0000e+00 - val_loss: 145.9542 - val_acc: 0.0000e+00\n",
      "Epoch 52/100\n",
      "576/576 [==============================] - 0s 47us/sample - loss: 202.8930 - acc: 0.0000e+00 - val_loss: 144.5289 - val_acc: 0.0000e+00\n",
      "Epoch 53/100\n",
      "576/576 [==============================] - 0s 47us/sample - loss: 201.2071 - acc: 0.0000e+00 - val_loss: 143.6390 - val_acc: 0.0000e+00\n",
      "Epoch 54/100\n",
      "576/576 [==============================] - 0s 50us/sample - loss: 198.9737 - acc: 0.0000e+00 - val_loss: 142.1948 - val_acc: 0.0000e+00\n",
      "Epoch 55/100\n",
      "576/576 [==============================] - 0s 45us/sample - loss: 197.2638 - acc: 0.0000e+00 - val_loss: 140.7954 - val_acc: 0.0000e+00\n",
      "Epoch 56/100\n",
      "576/576 [==============================] - 0s 47us/sample - loss: 195.4528 - acc: 0.0000e+00 - val_loss: 139.6738 - val_acc: 0.0000e+00\n",
      "Epoch 57/100\n",
      "576/576 [==============================] - 0s 47us/sample - loss: 193.7140 - acc: 0.0000e+00 - val_loss: 138.8341 - val_acc: 0.0000e+00\n",
      "Epoch 58/100\n",
      "576/576 [==============================] - 0s 43us/sample - loss: 192.1417 - acc: 0.0000e+00 - val_loss: 137.9141 - val_acc: 0.0000e+00\n",
      "Epoch 59/100\n",
      "576/576 [==============================] - 0s 45us/sample - loss: 190.5770 - acc: 0.0000e+00 - val_loss: 137.0488 - val_acc: 0.0000e+00\n",
      "Epoch 60/100\n",
      "576/576 [==============================] - 0s 50us/sample - loss: 189.0375 - acc: 0.0000e+00 - val_loss: 136.1318 - val_acc: 0.0000e+00\n",
      "Epoch 61/100\n",
      "576/576 [==============================] - 0s 49us/sample - loss: 187.4896 - acc: 0.0000e+00 - val_loss: 135.1158 - val_acc: 0.0000e+00\n",
      "Epoch 62/100\n",
      "576/576 [==============================] - 0s 50us/sample - loss: 186.1284 - acc: 0.0000e+00 - val_loss: 134.1559 - val_acc: 0.0000e+00\n",
      "Epoch 63/100\n",
      "576/576 [==============================] - 0s 47us/sample - loss: 184.6782 - acc: 0.0000e+00 - val_loss: 133.1624 - val_acc: 0.0000e+00\n",
      "Epoch 64/100\n",
      "576/576 [==============================] - 0s 50us/sample - loss: 183.4379 - acc: 0.0000e+00 - val_loss: 132.3869 - val_acc: 0.0000e+00\n",
      "Epoch 65/100\n",
      "576/576 [==============================] - 0s 49us/sample - loss: 182.0383 - acc: 0.0000e+00 - val_loss: 131.2999 - val_acc: 0.0000e+00\n",
      "Epoch 66/100\n",
      "576/576 [==============================] - 0s 57us/sample - loss: 180.7763 - acc: 0.0000e+00 - val_loss: 130.0533 - val_acc: 0.0000e+00\n",
      "Epoch 67/100\n",
      "576/576 [==============================] - 0s 49us/sample - loss: 179.5986 - acc: 0.0000e+00 - val_loss: 129.0736 - val_acc: 0.0000e+00\n",
      "Epoch 68/100\n",
      "576/576 [==============================] - 0s 49us/sample - loss: 178.3255 - acc: 0.0000e+00 - val_loss: 128.5419 - val_acc: 0.0000e+00\n",
      "Epoch 69/100\n",
      "576/576 [==============================] - 0s 50us/sample - loss: 177.2725 - acc: 0.0000e+00 - val_loss: 127.9381 - val_acc: 0.0000e+00\n",
      "Epoch 70/100\n",
      "576/576 [==============================] - 0s 52us/sample - loss: 176.0543 - acc: 0.0000e+00 - val_loss: 127.1644 - val_acc: 0.0000e+00\n",
      "Epoch 71/100\n",
      "576/576 [==============================] - 0s 49us/sample - loss: 174.9404 - acc: 0.0000e+00 - val_loss: 126.6909 - val_acc: 0.0000e+00\n",
      "Epoch 72/100\n",
      "576/576 [==============================] - 0s 49us/sample - loss: 173.9108 - acc: 0.0000e+00 - val_loss: 125.9255 - val_acc: 0.0000e+00\n",
      "Epoch 73/100\n",
      "576/576 [==============================] - 0s 50us/sample - loss: 172.8270 - acc: 0.0000e+00 - val_loss: 125.1388 - val_acc: 0.0000e+00\n",
      "Epoch 74/100\n",
      "576/576 [==============================] - 0s 56us/sample - loss: 171.8204 - acc: 0.0000e+00 - val_loss: 124.3998 - val_acc: 0.0000e+00\n",
      "Epoch 75/100\n",
      "576/576 [==============================] - 0s 36us/sample - loss: 170.7516 - acc: 0.0000e+00 - val_loss: 123.5988 - val_acc: 0.0000e+00\n",
      "Epoch 76/100\n",
      "576/576 [==============================] - 0s 42us/sample - loss: 169.7137 - acc: 0.0000e+00 - val_loss: 123.0598 - val_acc: 0.0000e+00\n",
      "Epoch 77/100\n",
      "576/576 [==============================] - 0s 36us/sample - loss: 168.7514 - acc: 0.0000e+00 - val_loss: 122.5262 - val_acc: 0.0000e+00\n",
      "Epoch 78/100\n",
      "576/576 [==============================] - 0s 38us/sample - loss: 167.7865 - acc: 0.0000e+00 - val_loss: 121.9132 - val_acc: 0.0000e+00\n",
      "Epoch 79/100\n",
      "576/576 [==============================] - 0s 40us/sample - loss: 166.7444 - acc: 0.0000e+00 - val_loss: 121.1878 - val_acc: 0.0000e+00\n",
      "Epoch 80/100\n",
      "576/576 [==============================] - 0s 36us/sample - loss: 165.8073 - acc: 0.0000e+00 - val_loss: 120.4887 - val_acc: 0.0000e+00\n",
      "Epoch 81/100\n",
      "576/576 [==============================] - 0s 42us/sample - loss: 165.0334 - acc: 0.0000e+00 - val_loss: 119.8294 - val_acc: 0.0000e+00\n",
      "Epoch 82/100\n",
      "576/576 [==============================] - 0s 38us/sample - loss: 164.0085 - acc: 0.0000e+00 - val_loss: 119.5602 - val_acc: 0.0000e+00\n",
      "Epoch 83/100\n",
      "576/576 [==============================] - 0s 38us/sample - loss: 163.1179 - acc: 0.0000e+00 - val_loss: 119.1405 - val_acc: 0.0000e+00\n",
      "Epoch 84/100\n",
      "576/576 [==============================] - 0s 52us/sample - loss: 162.2229 - acc: 0.0000e+00 - val_loss: 118.8228 - val_acc: 0.0000e+00\n",
      "Epoch 85/100\n",
      "576/576 [==============================] - 0s 35us/sample - loss: 161.4325 - acc: 0.0000e+00 - val_loss: 118.5333 - val_acc: 0.0000e+00\n",
      "Epoch 86/100\n",
      "576/576 [==============================] - 0s 38us/sample - loss: 160.5238 - acc: 0.0000e+00 - val_loss: 118.0682 - val_acc: 0.0000e+00\n",
      "Epoch 87/100\n",
      "576/576 [==============================] - 0s 33us/sample - loss: 159.7206 - acc: 0.0000e+00 - val_loss: 117.3539 - val_acc: 0.0000e+00\n",
      "Epoch 88/100\n",
      "576/576 [==============================] - 0s 35us/sample - loss: 158.8812 - acc: 0.0000e+00 - val_loss: 116.9112 - val_acc: 0.0000e+00\n",
      "Epoch 89/100\n",
      "576/576 [==============================] - 0s 36us/sample - loss: 158.1465 - acc: 0.0000e+00 - val_loss: 116.3073 - val_acc: 0.0000e+00\n",
      "Epoch 90/100\n",
      "576/576 [==============================] - 0s 35us/sample - loss: 157.3301 - acc: 0.0000e+00 - val_loss: 116.0098 - val_acc: 0.0000e+00\n",
      "Epoch 91/100\n",
      "576/576 [==============================] - 0s 43us/sample - loss: 156.7046 - acc: 0.0000e+00 - val_loss: 115.9300 - val_acc: 0.0000e+00\n",
      "Epoch 92/100\n",
      "576/576 [==============================] - 0s 35us/sample - loss: 155.7691 - acc: 0.0000e+00 - val_loss: 115.2653 - val_acc: 0.0000e+00\n",
      "Epoch 93/100\n",
      "576/576 [==============================] - 0s 42us/sample - loss: 155.1156 - acc: 0.0000e+00 - val_loss: 114.4662 - val_acc: 0.0000e+00\n",
      "Epoch 94/100\n",
      "576/576 [==============================] - 0s 38us/sample - loss: 154.3062 - acc: 0.0000e+00 - val_loss: 114.0664 - val_acc: 0.0000e+00\n",
      "Epoch 95/100\n",
      "576/576 [==============================] - 0s 38us/sample - loss: 153.4501 - acc: 0.0000e+00 - val_loss: 113.7774 - val_acc: 0.0000e+00\n",
      "Epoch 96/100\n",
      "576/576 [==============================] - 0s 38us/sample - loss: 152.7365 - acc: 0.0000e+00 - val_loss: 113.4192 - val_acc: 0.0000e+00\n",
      "Epoch 97/100\n",
      "576/576 [==============================] - 0s 38us/sample - loss: 152.0518 - acc: 0.0000e+00 - val_loss: 113.0307 - val_acc: 0.0000e+00\n",
      "Epoch 98/100\n",
      "576/576 [==============================] - 0s 42us/sample - loss: 151.3461 - acc: 0.0000e+00 - val_loss: 112.6268 - val_acc: 0.0000e+00\n",
      "Epoch 99/100\n",
      "576/576 [==============================] - 0s 38us/sample - loss: 150.6337 - acc: 0.0000e+00 - val_loss: 112.1145 - val_acc: 0.0000e+00\n",
      "Epoch 100/100\n",
      "576/576 [==============================] - 0s 35us/sample - loss: 149.9684 - acc: 0.0000e+00 - val_loss: 111.4360 - val_acc: 0.0000e+00\n"
     ]
    },
    {
     "data": {
      "text/plain": [
       "<tensorflow.python.keras.callbacks.History at 0x24fffe06988>"
      ]
     },
     "execution_count": 10,
     "metadata": {},
     "output_type": "execute_result"
    }
   ],
   "source": [
    "model.fit(part_x_train,part_y_train,epochs=100,validation_data=(x_val,y_val),batch_size=128)"
   ]
  },
  {
   "cell_type": "code",
   "execution_count": 11,
   "metadata": {},
   "outputs": [
    {
     "name": "stdout",
     "output_type": "stream",
     "text": [
      "309/309 [==============================] - 0s 65us/sample - loss: 145.0936 - acc: 0.0000e+00\n"
     ]
    },
    {
     "data": {
      "text/plain": [
       "[145.09360980678917, 0.0]"
      ]
     },
     "execution_count": 11,
     "metadata": {},
     "output_type": "execute_result"
    }
   ],
   "source": [
    "model.evaluate(x_test,y_test)"
   ]
  },
  {
   "cell_type": "code",
   "execution_count": 12,
   "metadata": {},
   "outputs": [
    {
     "name": "stdout",
     "output_type": "stream",
     "text": [
      "12.220093113315118\n"
     ]
    }
   ],
   "source": [
    "pred_train= model.predict(part_x_train)\n",
    "print(np.sqrt(mean_squared_error(part_y_train,pred_train)))"
   ]
  },
  {
   "cell_type": "code",
   "execution_count": 13,
   "metadata": {},
   "outputs": [
    {
     "data": {
      "text/plain": [
       "10782.502"
      ]
     },
     "execution_count": 13,
     "metadata": {},
     "output_type": "execute_result"
    }
   ],
   "source": [
    "model.predict(x_test).sum()"
   ]
  },
  {
   "cell_type": "code",
   "execution_count": null,
   "metadata": {},
   "outputs": [],
   "source": []
  }
 ],
 "metadata": {
  "kernelspec": {
   "display_name": "Python 3",
   "language": "python",
   "name": "python3"
  },
  "language_info": {
   "codemirror_mode": {
    "name": "ipython",
    "version": 3
   },
   "file_extension": ".py",
   "mimetype": "text/x-python",
   "name": "python",
   "nbconvert_exporter": "python",
   "pygments_lexer": "ipython3",
   "version": "3.7.4"
  }
 },
 "nbformat": 4,
 "nbformat_minor": 2
}
